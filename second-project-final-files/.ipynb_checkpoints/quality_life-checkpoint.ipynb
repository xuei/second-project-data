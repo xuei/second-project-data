{
 "cells": [
  {
   "cell_type": "code",
   "execution_count": 1,
   "metadata": {},
   "outputs": [],
   "source": [
    "import pandas as pd\n",
    "import numpy as np"
   ]
  },
  {
   "cell_type": "code",
   "execution_count": 2,
   "metadata": {},
   "outputs": [
    {
     "ename": "SyntaxError",
     "evalue": "invalid syntax (<ipython-input-2-56cf94830a87>, line 7)",
     "output_type": "error",
     "traceback": [
      "\u001b[1;36m  File \u001b[1;32m\"<ipython-input-2-56cf94830a87>\"\u001b[1;36m, line \u001b[1;32m7\u001b[0m\n\u001b[1;33m    life['Purchasing power']= [int(value) for value in pd.qcut(life['Purchasing power'],, labels= label).values ]\u001b[0m\n\u001b[1;37m                                                                                        ^\u001b[0m\n\u001b[1;31mSyntaxError\u001b[0m\u001b[1;31m:\u001b[0m invalid syntax\n"
     ]
    }
   ],
   "source": [
    "life = pd.read_excel (\"Life.xls\")\n",
    "\n",
    "life['Crimes/Population']= -life['Registered Crimes']/ life['Population']\n",
    "\n",
    "label= np.arange(4)+1\n",
    "\n",
    "life['Purchasing power']= [int(value) for value in pd.qcut(life['Purchasing power'],, labels= label).values ]\n",
    "\n",
    "life['Environment Expenses']= [int(value) for value in pd.qcut(life['Environment Expenses'],3, labels= label).values ]\n",
    "life['Gross Income']= [int(value) for value in pd.qcut(life['Gross Income'],3, labels= label).values ]\n",
    "life['Crimes/Population']= [int(value) for value in pd.qcut(life['Crimes/Population'],3, labels= label).values ]\n",
    "\n",
    "life['Quality of Life']= life['Purchasing power'] + life['Environment Expenses'] + life['Gross Income'] + life['Crimes/Population']\n",
    "\n",
    "\n",
    "def quality(i):\n",
    "    \n",
    "    if i >=9:\n",
    "        ft= 'Good Quality of Life'\n",
    "        return ft\n",
    "    elif i >=7:\n",
    "        sc= 'Moderate Quality of Life' \n",
    "        return sc  \n",
    "    else: \n",
    "        td ='Low Quality of Life'\n",
    "        return td\n",
    "\n",
    "life['Quality of Life']= life['Quality of Life'].apply(quality)\n",
    "\n",
    "life"
   ]
  },
  {
   "cell_type": "code",
   "execution_count": null,
   "metadata": {},
   "outputs": [],
   "source": []
  }
 ],
 "metadata": {
  "kernelspec": {
   "display_name": "Python 3",
   "language": "python",
   "name": "python3"
  },
  "language_info": {
   "codemirror_mode": {
    "name": "ipython",
    "version": 3
   },
   "file_extension": ".py",
   "mimetype": "text/x-python",
   "name": "python",
   "nbconvert_exporter": "python",
   "pygments_lexer": "ipython3",
   "version": "3.7.3"
  }
 },
 "nbformat": 4,
 "nbformat_minor": 4
}
